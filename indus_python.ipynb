{
  "nbformat": 4,
  "nbformat_minor": 0,
  "metadata": {
    "colab": {
      "provenance": [],
      "authorship_tag": "ABX9TyMnJWXalRe/M3R8zQLST8cn",
      "include_colab_link": true
    },
    "kernelspec": {
      "name": "python3",
      "display_name": "Python 3"
    },
    "language_info": {
      "name": "python"
    }
  },
  "cells": [
    {
      "cell_type": "markdown",
      "metadata": {
        "id": "view-in-github",
        "colab_type": "text"
      },
      "source": [
        "<a href=\"https://colab.research.google.com/github/pmadhurn/UNIVERSITY/blob/main/indus_python.ipynb\" target=\"_parent\"><img src=\"https://colab.research.google.com/assets/colab-badge.svg\" alt=\"Open In Colab\"/></a>"
      ]
    },
    {
      "cell_type": "markdown",
      "source": [
        "## Demonstrate functions and all categories of functions in python."
      ],
      "metadata": {
        "id": "oMAynaF19FF6"
      }
    },
    {
      "cell_type": "code",
      "execution_count": null,
      "metadata": {
        "id": "2rN2FynF8-zQ"
      },
      "outputs": [],
      "source": [
        "#User-Defined Functions:\n",
        "def greet(name):\n",
        "  print(\"Hello, \" + name + \"!\")\n",
        "\n",
        "greet(\"Alice\")\\\n",
        "\n",
        "# 4. Generator Functions:\n",
        "def fibonacci_numbers(n):\n",
        "  a, b = 0, 1\n",
        "  while a < n:\n",
        "    yield a\n",
        "    a, b = b, a + b\n",
        "\n",
        "for num in fibonacci_numbers(10):\n",
        "  print(num)  # Output: 0 1 1 2 3 5 8\n",
        "\n",
        "# 5. Recursive Functions:\n",
        "def factorial(n):\n",
        "   if n == 0:\n",
        "    return 1\n",
        "  else:\n",
        "    return n * factorial(n-1)\n",
        "\n",
        "print(\"Recursive Function Example:\", factorial(5))  # Output: 120\n"
      ]
    }
  ]
}