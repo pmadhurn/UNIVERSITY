{
  "cells": [
    {
      "cell_type": "markdown",
      "metadata": {
        "id": "view-in-github",
        "colab_type": "text"
      },
      "source": [
        "<a href=\"https://colab.research.google.com/github/pmadhurn/UNIVERSITY/blob/main/indus_python.ipynb\" target=\"_parent\"><img src=\"https://colab.research.google.com/assets/colab-badge.svg\" alt=\"Open In Colab\"/></a>"
      ]
    },
    {
      "cell_type": "markdown",
      "metadata": {
        "id": "oMAynaF19FF6"
      },
      "source": [
        "## Demonstrate functions and all categories of functions in python.\n",
        "\n",
        "## User defined Function\n",
        "\n",
        "## With argument without return type\n"
      ]
    },
    {
      "cell_type": "code",
      "execution_count": null,
      "metadata": {
        "id": "2rN2FynF8-zQ",
        "outputId": "0e4b89d1-861c-4121-cb82-8f6477f79ce4"
      },
      "outputs": [
        {
          "name": "stdout",
          "output_type": "stream",
          "text": [
            "Hello,  Madhur\n"
          ]
        }
      ],
      "source": [
        "\n",
        "\n",
        "\n",
        "def greet(name):\n",
        "  print(\"Hello, \" , name)\n",
        "\n",
        "greet(\"Madhur\")\n",
        "\n",
        "\n"
      ]
    },
    {
      "cell_type": "markdown",
      "metadata": {
        "id": "0_mYhmhTCNkk"
      },
      "source": [
        "## Without argument without return type"
      ]
    },
    {
      "cell_type": "code",
      "execution_count": null,
      "metadata": {
        "id": "a00bgG1NCNkk",
        "outputId": "08e2af21-c328-414b-edfc-dd73c496f24e"
      },
      "outputs": [
        {
          "name": "stdout",
          "output_type": "stream",
          "text": [
            "Hello, Madhur\n"
          ]
        }
      ],
      "source": [
        "\n",
        "def greet():\n",
        "  print(\"Hello, Madhur\")\n",
        "\n",
        "greet()\n",
        "\n",
        "\n",
        "\n"
      ]
    },
    {
      "cell_type": "markdown",
      "metadata": {
        "id": "nRUkdMs4CNkl"
      },
      "source": [
        "## Without argument with return type"
      ]
    },
    {
      "cell_type": "code",
      "execution_count": null,
      "metadata": {
        "id": "YaLfUIh3CNkl",
        "outputId": "a46cc498-2388-4691-ccf5-00c17f0b81e1"
      },
      "outputs": [
        {
          "name": "stdout",
          "output_type": "stream",
          "text": [
            "Enter the fiest number : 20\n",
            "Enter the second number you want to Add to the first number  : 123\n",
            "Addition of both numbers is : 143\n"
          ]
        }
      ],
      "source": [
        "def Add():\n",
        "    x=eval(input(\"Enter the fiest number : \"))\n",
        "    y=eval(input(\"Enter the second number you want to Add to the first number  : \"))\n",
        "    return x+y\n",
        "a=Add()\n",
        "print(f\"Addition of both numbers is : {a}\")\n"
      ]
    },
    {
      "cell_type": "markdown",
      "metadata": {
        "id": "bTE9p4hWCNkl"
      },
      "source": [
        "## With argument without return type"
      ]
    },
    {
      "cell_type": "code",
      "execution_count": null,
      "metadata": {
        "id": "uyj5b3lTCNkl",
        "outputId": "e3b7deda-77d7-425b-f517-9871841a0e50"
      },
      "outputs": [
        {
          "name": "stdout",
          "output_type": "stream",
          "text": [
            "THE PRODUCT OF BOTH NUMBERS IS 12300\n"
          ]
        }
      ],
      "source": [
        "def Multiply(x,y):\n",
        "    print(f\"THE PRODUCT OF BOTH NUMBERS IS {x*y}\")\n",
        "Multiply(10,1230)\n"
      ]
    },
    {
      "cell_type": "markdown",
      "source": [
        "## Demonstrate arrays (Insertion, Deletion, arithmetic operations)."
      ],
      "metadata": {
        "id": "VSBzo1SSCoou"
      }
    },
    {
      "cell_type": "code",
      "execution_count": null,
      "metadata": {
        "id": "DPiBLFPYCNkl"
      },
      "outputs": [],
      "source": [
        "def Array():\n",
        "    array1=[]\n",
        "    len1=int(input(\"ENTER THE LENGTH OF YOUR ARRAY : \"))\n",
        "    for i in range(len1):\n",
        "      array1.append(int(input(\"ENTER THE ELEMENTS OF YOUR ARRAY : \")))\n",
        "    array2=[]\n",
        "    len2=int(input(\"ENTER THE LENGTH OF YOUR ARRAY : \"))\n",
        "    for i in range(len2):\n",
        "      array2.append(int(input(\"ENTER THE ELEMENTS OF YOUR ARRAY : \")))\n",
        "\n",
        "    print(\"THE ARRAY 1  IS : \",array1)\n",
        "    print(\"THE ARRAY 2  IS : \",array2)\n",
        "\n",
        "    while True:\n",
        "\n",
        "        op=int(input(\"choose from Option below :\\n 1\\t To insert element to the array\\n2\\t delition of element from the array\\n3\\t to perform addition of both array \\n: \"))\n",
        "\n",
        "        if op==1:\n",
        "\n",
        "          #INSERTION OPERATION:\n",
        "          print(\"NOW WE ARE PERFORMING INSERTION OPERATION TO ARRAY 1 ANT THE END.\")\n",
        "          val1=int(input(\"Enter the value of the element you want to insert in the Array 1 :\"))\n",
        "          val2=int(input(\"Enter the value of the element you want to insert in the Array 2 :\"))\n",
        "          array1.append(val1)\n",
        "          array1.append(val2)\n",
        "\n",
        "          print(\"THE ARRAY 1  IS : \",array1)\n",
        "          print(\"THE ARRAY 2  IS : \",array2)\n",
        "\n",
        "        elif op==2:\n",
        "        #DELITION OF ARRAY:\n",
        "          print(\"NOW WE ARE PERFORMING DELITION OPERATION TO ARRAY.\")\n",
        "          a=int(\"ENTER THE ARRAY FROM WHICH YOU WANT TO DELETE THE ELEMENT : \")\n",
        "          if a==1:\n",
        "            x=eval(input(array1 ,\"\\n enter the element you wannt to delete :\"))\n",
        "          for i in range(len(array1)):\n",
        "              if a==x:\n",
        "                del array1[i]\n",
        "                break\n",
        "          print(\"THE ARRAY 1  IS : \",array1)\n",
        "\n",
        "          if a==2:\n",
        "                x=eval(input(array2 ,\"\\nenter the element you wannt to delete :\"))\n",
        "                for i in range(len(array2)):\n",
        "                  if a==x:\n",
        "                    del array1[i]\n",
        "                    break\n",
        "          print(\"THE ARRAY 2  IS : \",array2)\n",
        "\n",
        "\n",
        "        elif op==3:\n",
        "        #addition of both arrays:\n",
        "          addarray=[]\n",
        "          if len(array1)==len(array2):\n",
        "            for i in range(len(array1)):\n",
        "              addarray.append(array1[i]+array2[i])\n",
        "          elif len(array1)!=len(array2):\n",
        "              if len(array1)<len(array2):\n",
        "                for i in range(len(array1)):\n",
        "                  addarray.append(array1[i]+array2[i])\n",
        "                g=len(array1)\n",
        "                h=len(array2)\n",
        "                for i in range(g,h):\n",
        "                  addarray.append(array2[i])\n",
        "\n",
        "\n",
        "              if len(array2)<len(array1):\n",
        "                for i in range(len(array2)):\n",
        "                  addarray.append(array2[i]+array1[i])\n",
        "                for i in range(len(array2),+++len(array1)):\n",
        "                  addarray.append(array1[i])\n",
        "          print(\"THE ARRAY 1  IS : \",array1)\n",
        "          print(\"THE ARRAY 2  IS : \",array2)\n",
        "          print(\"THE SUM IS :\",addarray)\n",
        "        else:\n",
        "          break\n",
        "Array()"
      ]
    },
    {
      "cell_type": "code",
      "source": [],
      "metadata": {
        "id": "IO_fixxVKsws"
      },
      "execution_count": null,
      "outputs": []
    }
  ],
  "metadata": {
    "colab": {
      "provenance": [],
      "include_colab_link": true
    },
    "kernelspec": {
      "display_name": "Python 3",
      "language": "python",
      "name": "python3"
    },
    "language_info": {
      "codemirror_mode": {
        "name": "ipython",
        "version": 3
      },
      "file_extension": ".py",
      "mimetype": "text/x-python",
      "name": "python",
      "nbconvert_exporter": "python",
      "pygments_lexer": "ipython3",
      "version": "3.6.5"
    }
  },
  "nbformat": 4,
  "nbformat_minor": 0
}