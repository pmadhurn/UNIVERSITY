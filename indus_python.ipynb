{
  "cells": [
    {
      "cell_type": "markdown",
      "metadata": {
        "id": "view-in-github",
        "colab_type": "text"
      },
      "source": [
        "<a href=\"https://colab.research.google.com/github/pmadhurn/UNIVERSITY/blob/main/indus_python.ipynb\" target=\"_parent\"><img src=\"https://colab.research.google.com/assets/colab-badge.svg\" alt=\"Open In Colab\"/></a>"
      ]
    },
    {
      "cell_type": "markdown",
      "metadata": {
        "id": "oMAynaF19FF6"
      },
      "source": [
        "## Demonstrate functions and all categories of functions in python.\n",
        "\n",
        "## User defined Function\n",
        "\n",
        "## With argument without return type\n"
      ]
    },
    {
      "cell_type": "code",
      "execution_count": null,
      "metadata": {
        "id": "2rN2FynF8-zQ",
        "outputId": "0e4b89d1-861c-4121-cb82-8f6477f79ce4"
      },
      "outputs": [
        {
          "name": "stdout",
          "output_type": "stream",
          "text": [
            "Hello,  Madhur\n"
          ]
        }
      ],
      "source": [
        "\n",
        "\n",
        "\n",
        "def greet(name):\n",
        "  print(\"Hello, \" , name)\n",
        "\n",
        "greet(\"Madhur\")\n",
        "\n",
        "\n"
      ]
    },
    {
      "cell_type": "markdown",
      "metadata": {
        "id": "0_mYhmhTCNkk"
      },
      "source": [
        "## Without argument without return type"
      ]
    },
    {
      "cell_type": "code",
      "execution_count": null,
      "metadata": {
        "id": "a00bgG1NCNkk",
        "outputId": "08e2af21-c328-414b-edfc-dd73c496f24e"
      },
      "outputs": [
        {
          "name": "stdout",
          "output_type": "stream",
          "text": [
            "Hello, Madhur\n"
          ]
        }
      ],
      "source": [
        "\n",
        "def greet():\n",
        "  print(\"Hello, Madhur\")\n",
        "\n",
        "greet()\n",
        "\n",
        "\n",
        "\n"
      ]
    },
    {
      "cell_type": "markdown",
      "metadata": {
        "id": "nRUkdMs4CNkl"
      },
      "source": [
        "## Without argument with return type"
      ]
    },
    {
      "cell_type": "code",
      "execution_count": null,
      "metadata": {
        "id": "YaLfUIh3CNkl",
        "outputId": "a46cc498-2388-4691-ccf5-00c17f0b81e1"
      },
      "outputs": [
        {
          "name": "stdout",
          "output_type": "stream",
          "text": [
            "Enter the fiest number : 20\n",
            "Enter the second number you want to Add to the first number  : 123\n",
            "Addition of both numbers is : 143\n"
          ]
        }
      ],
      "source": [
        "def Add():\n",
        "    x=eval(input(\"Enter the fiest number : \"))\n",
        "    y=eval(input(\"Enter the second number you want to Add to the first number  : \"))\n",
        "    return x+y\n",
        "a=Add()\n",
        "print(f\"Addition of both numbers is : {a}\")\n"
      ]
    },
    {
      "cell_type": "markdown",
      "metadata": {
        "id": "bTE9p4hWCNkl"
      },
      "source": [
        "## With argument without return type"
      ]
    },
    {
      "cell_type": "code",
      "execution_count": null,
      "metadata": {
        "id": "uyj5b3lTCNkl",
        "outputId": "e3b7deda-77d7-425b-f517-9871841a0e50"
      },
      "outputs": [
        {
          "name": "stdout",
          "output_type": "stream",
          "text": [
            "THE PRODUCT OF BOTH NUMBERS IS 12300\n"
          ]
        }
      ],
      "source": [
        "def Multiply(x,y):\n",
        "    print(f\"THE PRODUCT OF BOTH NUMBERS IS {x*y}\")\n",
        "Multiply(10,1230)\n"
      ]
    },
    {
      "cell_type": "code",
      "execution_count": null,
      "metadata": {
        "id": "DPiBLFPYCNkl"
      },
      "outputs": [],
      "source": []
    }
  ],
  "metadata": {
    "colab": {
      "provenance": [],
      "include_colab_link": true
    },
    "kernelspec": {
      "display_name": "Python 3",
      "language": "python",
      "name": "python3"
    },
    "language_info": {
      "codemirror_mode": {
        "name": "ipython",
        "version": 3
      },
      "file_extension": ".py",
      "mimetype": "text/x-python",
      "name": "python",
      "nbconvert_exporter": "python",
      "pygments_lexer": "ipython3",
      "version": "3.6.5"
    }
  },
  "nbformat": 4,
  "nbformat_minor": 0
}