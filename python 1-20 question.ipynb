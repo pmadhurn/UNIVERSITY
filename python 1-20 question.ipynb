{
  "nbformat": 4,
  "nbformat_minor": 0,
  "metadata": {
    "colab": {
      "provenance": [],
      "authorship_tag": "ABX9TyOVwuTe5ojZ3Gl3afnVoCZL",
      "include_colab_link": true
    },
    "kernelspec": {
      "name": "python3",
      "display_name": "Python 3"
    },
    "language_info": {
      "name": "python"
    }
  },
  "cells": [
    {
      "cell_type": "markdown",
      "metadata": {
        "id": "view-in-github",
        "colab_type": "text"
      },
      "source": [
        "<a href=\"https://colab.research.google.com/github/pmadhurn/UNIVERSITY/blob/main/python%201-20%20question.ipynb\" target=\"_parent\"><img src=\"https://colab.research.google.com/assets/colab-badge.svg\" alt=\"Open In Colab\"/></a>"
      ]
    },
    {
      "cell_type": "markdown",
      "source": [
        "1. Demonstrate functions and all categories of functions in C/C++/java/python.\n"
      ],
      "metadata": {
        "id": "kQ8o7BHRUbxt"
      }
    },
    {
      "cell_type": "code",
      "source": [
        "\"\"\"#User defined Function\n",
        "#With argument without return type\n",
        "def greet(name):\n",
        "  print(\"Hello, \" , name)\n",
        "\n",
        "greet(\"Madhur\")\n",
        "#Hello,  Madhur\n",
        "#Without argument without return type\n",
        "def greet():\n",
        "  print(\"Hello, Madhur\")\n",
        "\n",
        "greet()\n",
        "#Hello, Madhur\n",
        "#Without argument with return type\n",
        "def Add():\n",
        "    x=eval(input(\"Enter the fiest number : \"))\n",
        "    y=eval(input(\"Enter the second number you want to Add to the first number  : \"))\n",
        "    return x+y\n",
        "a=Add()\n",
        "print(f\"Addition of both numbers is : {a}\")\n",
        "#Enter the fiest number : 20\n",
        "#Enter the second number you want to Add to the first number  : 123\n",
        "#Addition of both numbers is : 143\n",
        "#With argument without return type\"\"\"\n",
        "def Multiply(x,y):\n",
        "    print(f\"THE PRODUCT OF BOTH NUMBERS IS {x*y}\")\n",
        "Multiply(10,1230)\n",
        "\n"
      ],
      "metadata": {
        "colab": {
          "base_uri": "https://localhost:8080/"
        },
        "id": "TGTHxYG5Ub7F",
        "outputId": "adac2ef2-8816-4005-acc7-8aa36dcd326e"
      },
      "execution_count": 2,
      "outputs": [
        {
          "output_type": "stream",
          "name": "stdout",
          "text": [
            "THE PRODUCT OF BOTH NUMBERS IS 12300\n"
          ]
        }
      ]
    },
    {
      "cell_type": "markdown",
      "source": [
        "2. Demonstrate arrays (Insertion, Deletion, arithmetic operations).\n",
        "\n"
      ],
      "metadata": {
        "id": "jM1x3dhWUcFN"
      }
    },
    {
      "cell_type": "code",
      "source": [
        "# prompt: Demonstrate arrays (Insertion, Deletion, arithmetic operations). in short\n",
        "\n",
        "# Insertion\n",
        "arr = [1, 2, 3, 4]\n",
        "arr.insert(2, 5)  # Insert 5 at index 2\n",
        "print(arr)  # Output: [1, 2, 5, 3, 4]\n",
        "\n",
        "# Deletion\n",
        "del arr[1]  # Delete element at index 1\n",
        "print(arr)  # Output: [1, 5, 3, 4]\n",
        "\n",
        "# Arithmetic operations\n",
        "import numpy as np\n",
        "arr1 = np.array([1, 2, 3])\n",
        "arr2 = np.array([4, 5, 6])\n",
        "\n",
        "# Addition\n",
        "print(arr1 + arr2)  # Output: [5 7 9]\n",
        "\n",
        "# Subtraction\n",
        "print(arr1 - arr2)  # Output: [-3 -3 -3]\n",
        "\n",
        "# Multiplication\n",
        "print(arr1 * arr2)  # Output: [ 4 10 18]\n",
        "\n",
        "# Division\n",
        "print(arr1 / arr2)  # Output: [0.25 0.4  0.5 ]\n"
      ],
      "metadata": {
        "id": "gHjMBsh2xLoM"
      },
      "execution_count": null,
      "outputs": []
    },
    {
      "cell_type": "code",
      "source": [
        "def Array():\n",
        "    array1=[]\n",
        "    len1=int(input(\"ENTER THE LENGTH OF YOUR ARRAY : \"))\n",
        "    for i in range(len1):\n",
        "      array1.append(int(input(\"ENTER THE ELEMENTS OF YOUR ARRAY : \")))\n",
        "    array2=[]\n",
        "    len2=int(input(\"ENTER THE LENGTH OF YOUR ARRAY : \"))\n",
        "    for i in range(len2):\n",
        "      array2.append(int(input(\"ENTER THE ELEMENTS OF YOUR ARRAY : \")))\n",
        "\n",
        "    print(\"THE ARRAY 1  IS : \",array1)\n",
        "    print(\"THE ARRAY 2  IS : \",array2)\n",
        "\n",
        "    while True:\n",
        "\n",
        "        op=int(input(\"choose from Option below :\\n 1\\t To insert element to the array\\n2\\t delition of element from the array\\n3\\t to perform addition of both array \\n: \"))\n",
        "\n",
        "        if op==1:\n",
        "\n",
        "          #INSERTION OPERATION:\n",
        "          print(\"NOW WE ARE PERFORMING INSERTION OPERATION TO ARRAY 1 ANT THE END.\")\n",
        "          val1=int(input(\"Enter the value of the element you want to insert in the Array 1 :\"))\n",
        "          val2=int(input(\"Enter the value of the element you want to insert in the Array 2 :\"))\n",
        "          array1.append(val1)\n",
        "          array1.append(val2)\n",
        "\n",
        "          print(\"THE ARRAY 1  IS : \",array1)\n",
        "          print(\"THE ARRAY 2  IS : \",array2)\n",
        "\n",
        "        elif op==2:\n",
        "        #DELITION OF ARRAY:\n",
        "          print(\"NOW WE ARE PERFORMING DELITION OPERATION TO ARRAY.\")\n",
        "          a=int(\"ENTER THE ARRAY FROM WHICH YOU WANT TO DELETE THE ELEMENT : \")\n",
        "          if a==1:\n",
        "            x=eval(input(array1 ,\"\\n enter the element you wannt to delete :\"))\n",
        "          for i in range(len(array1)):\n",
        "              if a==x:\n",
        "                del array1[i]\n",
        "                break\n",
        "          print(\"THE ARRAY 1  IS : \",array1)\n",
        "\n",
        "          if a==2:\n",
        "                x=eval(input(array2 ,\"\\nenter the element you wannt to delete :\"))\n",
        "                for i in range(len(array2)):\n",
        "                  if a==x:\n",
        "                    del array1[i]\n",
        "                    break\n",
        "          print(\"THE ARRAY 2  IS : \",array2)\n",
        "\n",
        "\n",
        "        elif op==3:\n",
        "        #addition of both arrays:\n",
        "          addarray=[]\n",
        "          if len(array1)==len(array2):\n",
        "            for i in range(len(array1)):\n",
        "              addarray.append(array1[i]+array2[i])\n",
        "          elif len(array1)!=len(array2):\n",
        "              if len(array1)<len(array2):\n",
        "                for i in range(len(array1)):\n",
        "                  addarray.append(array1[i]+array2[i])\n",
        "                g=len(array1)\n",
        "                h=len(array2)\n",
        "                for i in range(g,h):\n",
        "                  addarray.append(array2[i])\n",
        "\n",
        "\n",
        "              if len(array2)<len(array1):\n",
        "                for i in range(len(array2)):\n",
        "                  addarray.append(array2[i]+array1[i])\n",
        "                for i in range(len(array2),+++len(array1)):\n",
        "                  addarray.append(array1[i])\n",
        "          print(\"THE ARRAY 1  IS : \",array1)\n",
        "          print(\"THE ARRAY 2  IS : \",array2)\n",
        "          print(\"THE SUM IS :\",addarray)\n",
        "        else:\n",
        "          break\n",
        "#Array()\n"
      ],
      "metadata": {
        "id": "g5edy80tUcN0"
      },
      "execution_count": null,
      "outputs": []
    },
    {
      "cell_type": "markdown",
      "source": [
        "3. Perform Addition, Multiplication for Vectors and Matrices.\n"
      ],
      "metadata": {
        "id": "h0ESxuwOUcUl"
      }
    },
    {
      "cell_type": "code",
      "source": [
        "def matrix():\n",
        "    a=[[1,2],[3,4]]\n",
        "    b=[[5,6],[7,8]]\n",
        "    mul=[]\n",
        "    print(len(a))\n",
        "    for i in range(len(a)):\n",
        "        mul2=[]\n",
        "        for j in range(len(b[0])):\n",
        "            sum=0\n",
        "            for k in range(len(b)):\n",
        "                sum+=(a[i][j]+b[i][j])\n",
        "            mul2.append(sum)\n",
        "        mul.append((mul2))\n",
        "    print(a,\"\\n\",b,\"\\n\",mul)\n",
        "#matrix()\n",
        "\n"
      ],
      "metadata": {
        "id": "7cW0BIvQUcnN"
      },
      "execution_count": null,
      "outputs": []
    },
    {
      "cell_type": "markdown",
      "source": [
        "4. Practical based on Strings (Length finding, change specific character, palindrome, concatenation)\n",
        "\n"
      ],
      "metadata": {
        "id": "0WGcddhhUcvF"
      }
    },
    {
      "cell_type": "code",
      "source": [
        "def length():\n",
        "    a=\"madhur\"\n",
        "    print(len(a))\n",
        "\n",
        "#length()\n",
        "\n",
        "def Replace():\n",
        "    a=input(\"enter the string : \")\n",
        "    b=input(\"enter the char you want to replace : \")\n",
        "    c=input(f\"enter the char you want to replace {b} with : \")\n",
        "    a=a.replace(b,c)\n",
        "    print(a)\n",
        "#Replace()\n",
        "\n",
        "def palindrome():\n",
        "    a=input(\"enter a string : \")\n",
        "    if a[::1]==a[::-1]:\n",
        "        print(\"string is palindrome\")\n",
        "    else:\n",
        "        print(\"strnig is not palindrome .\")\n",
        "#palindrome()\n",
        "\n",
        "def concatnat():\n",
        "    a=\"madhur\"\n",
        "    b=\" is a man\"\n",
        "    c=a+b\n",
        "    print(c)\n",
        "#concatnat()\n",
        "\n"
      ],
      "metadata": {
        "id": "Cpegi3blUc2k"
      },
      "execution_count": null,
      "outputs": []
    },
    {
      "cell_type": "markdown",
      "source": [
        "5. Create a menu driven program to show various operators supported by python.\n",
        "\n"
      ],
      "metadata": {
        "id": "vHv7IUxNUc-k"
      }
    },
    {
      "cell_type": "code",
      "source": [
        "def menu():\n",
        "    a, b, c = 5, 3, 7\n",
        "\n",
        "    while True:\n",
        "        print(\"\"\"\n",
        "        SELECT AN OPTION FROM BELOW:\n",
        "        1) Arithmetic Operations\n",
        "        2) Relational Operations\n",
        "        3) Assignment Operators\n",
        "        4) Logical Operators\n",
        "        5) Bitwise Operators\n",
        "        6) Membership Operators\n",
        "        7) Identity Operators\n",
        "        8) Exit\n",
        "        \"\"\")\n",
        "\n",
        "        try:\n",
        "            x = int(input(\"Enter your choice (1-8): \"))\n",
        "        except ValueError:\n",
        "            print(\"Invalid input. Please enter a number between 1 and 8.\")\n",
        "            continue\n",
        "\n",
        "        if x == 8:\n",
        "            print(\"Exiting the program. Goodbye!\")\n",
        "            break\n",
        "        elif x == 1:\n",
        "            print(\"Arithmetic Operations:\")\n",
        "            print(f\"Example 1: {a} + {b} = {a+b}\")\n",
        "            print(f\"Example 2: {b} * {c} = {b*c}\")\n",
        "        elif x == 2:\n",
        "            print(\"Relational Operations:\")\n",
        "            print(f\"Example 1: {a} > {b} is {a > b}\")\n",
        "            print(f\"Example 2: {b} <= {c} is {b <= c}\")\n",
        "        elif x == 3:\n",
        "            print(\"Assignment Operators:\")\n",
        "            d = a\n",
        "            print(f\"Example 1: d = a, now d = {d}\")\n",
        "            c += b\n",
        "            print(f\"Example 2: c += b, now c = {c}\")\n",
        "        elif x == 4:\n",
        "            print(\"Logical Operations:\")\n",
        "            print(f\"Example 1: (a > b) and (b < c) is {(a > b) and (b < c)}\")\n",
        "            print(f\"Example 2: (a < b) or (b > c) is {(a < b) or (b > c)}\")\n",
        "        elif x == 5:\n",
        "            print(\"Bitwise Operations:\")\n",
        "            print(f\"Example 1: {a} & {b} = {a & b}\")\n",
        "            print(f\"Example 2: {b} | {c} = {b | c}\")\n",
        "        elif x == 6:\n",
        "            print(\"Membership Operators:\")\n",
        "            list1 = [1, 2, 3, 4, 5]\n",
        "            list2 = ['a', 'b', 'c']\n",
        "            print(f\"Example 1: 3 in {list1} is {3 in list1}\")\n",
        "            print(f\"Example 2: 'z' not in {list2} is {'z' not in list2}\")\n",
        "        elif x == 7:\n",
        "            print(\"Identity Operators:\")\n",
        "            list3 = [1, 2, 3]\n",
        "            list4 = [1, 2, 3]\n",
        "            list5 = list3\n",
        "            print(f\"Example 1: list3 is list4 is {list3 is list4}\")\n",
        "            print(f\"Example 2: list3 is list5 is {list3 is list5}\")\n",
        "        else:\n",
        "            print(\"Please choose a number between 1 and 8\")\n",
        "\n",
        "menu()\n"
      ],
      "metadata": {
        "id": "X_sBmLkNUdGF"
      },
      "execution_count": null,
      "outputs": []
    },
    {
      "cell_type": "markdown",
      "source": [
        "\n",
        "6. Write a python program to find out if a given number is even or odd using a user defined function.\n"
      ],
      "metadata": {
        "id": "O_Q6WJ72UdMl"
      }
    },
    {
      "cell_type": "code",
      "source": [
        "\n",
        "def eo(a):\n",
        "    if a%2==0:\n",
        "        print(\"number is even\")\n",
        "    else:\n",
        "        print(\"num is odd\")\n",
        "\n",
        "x=eval(\"enter a number : \")\n",
        "eo(x)\n"
      ],
      "metadata": {
        "id": "JbOqSG4lUdSs"
      },
      "execution_count": null,
      "outputs": []
    },
    {
      "cell_type": "markdown",
      "source": [
        "\n",
        "7.\n",
        "1) Addition of first 15 numbers using loop.\n",
        "2) Addition of any 15 numbers using a loop.\n"
      ],
      "metadata": {
        "id": "73UbPqzYUdZs"
      }
    },
    {
      "cell_type": "code",
      "source": [
        "def Loop1():\n",
        "    a=0\n",
        "    for i in range(15):\n",
        "        a=a+i\n",
        "    print(i)\n",
        "Loop1()\n",
        "def Loop2():\n",
        "    import random\n",
        "    a=0\n",
        "    for i in range(15):\n",
        "        b=random.randint(0,15)\n",
        "        a=a+b\n",
        "    print(a)\n",
        "Loop2()\n"
      ],
      "metadata": {
        "id": "4T7Z5E0ZUdf8"
      },
      "execution_count": null,
      "outputs": []
    },
    {
      "cell_type": "markdown",
      "source": [
        "8. Write a python program to check if the entered year is leap year or not.\n",
        "\n"
      ],
      "metadata": {
        "id": "4jHeNMrZUdmM"
      }
    },
    {
      "cell_type": "code",
      "source": [
        "def year()\n",
        "    x=int(input(\"Enter the year : \"))\n",
        "    if x%4==0;:\n",
        "        print(f\"{x} is a leap year.\")\n",
        "    else:\n",
        "        print(f\"{x} is not a leap year .\")\n",
        "year()\n"
      ],
      "metadata": {
        "id": "6zo4S1KPUduM"
      },
      "execution_count": null,
      "outputs": []
    },
    {
      "cell_type": "markdown",
      "source": [
        "9. Write a Python program which accepts the user's first and last name and print them in reverse order with a space between them.\n"
      ],
      "metadata": {
        "id": "zkJjyzBmUd0k"
      }
    },
    {
      "cell_type": "code",
      "source": [
        "def flname():\n",
        "    fn=input(\"enter the first name  : \")\n",
        "    ln=input(\"enter the last name : \")\n",
        "    fnr=fn[::-1]\n",
        "    lnr=ln[::-1]\n",
        "    print(lnr+\" \"+fnr)\n",
        "flname()\n"
      ],
      "metadata": {
        "colab": {
          "base_uri": "https://localhost:8080/"
        },
        "id": "t-NPamnlUd7O",
        "outputId": "d6946739-7469-4bc6-cf7d-d341a7a2cd4b"
      },
      "execution_count": null,
      "outputs": [
        {
          "output_type": "stream",
          "name": "stdout",
          "text": [
            "enter the first name  : MADHUR\n",
            "enter the last name : PATEL\n",
            "LETAP RUHDAM\n"
          ]
        }
      ]
    },
    {
      "cell_type": "markdown",
      "source": [
        "10. Write a Python program to print the calendar of a given month and year.\n",
        "\n"
      ],
      "metadata": {
        "id": "z9QA8XUJUeBU"
      }
    },
    {
      "cell_type": "code",
      "source": [
        "def CL(m,y):\n",
        "  import calendar as c\n",
        "  print(c.month(y,m))\n",
        "\n",
        "\n",
        "x=int(input(\"enter the month in numbers from 1 to 12 : \"))\n",
        "y=int(input(\"enter the year : \"))\n",
        "CL(x,y)\n"
      ],
      "metadata": {
        "id": "ganm5fZPUeHk"
      },
      "execution_count": null,
      "outputs": []
    },
    {
      "cell_type": "markdown",
      "source": [
        "11. Write a Python program to check whether a specified value is contained in a group of values.\n",
        "Test Data:\n",
        "c. -> [1, 5, 8, 3]: True\n",
        "-1 -> [1, 5, 8, 3]: False\n"
      ],
      "metadata": {
        "id": "uyBiPsO3UeOd"
      }
    },
    {
      "cell_type": "code",
      "source": [
        "\n",
        "def valuecheck():\n",
        "    x=[1,5,8,3]\n",
        "\n",
        "    print(3 in x)\n",
        "    print(-1 in x)\n",
        "valuecheck()\n"
      ],
      "metadata": {
        "id": "fNs7igq9UeUk"
      },
      "execution_count": null,
      "outputs": []
    },
    {
      "cell_type": "markdown",
      "source": [
        "12. Write a Python program to get OS name, platform and release information.\n",
        "\n"
      ],
      "metadata": {
        "id": "xA6PcHpUUebe"
      }
    },
    {
      "cell_type": "code",
      "source": [
        "def oschk():\n",
        "    import os\n",
        "    import platform\n",
        "\n",
        "    print(\"the os name is : \",os.name)\n",
        "    print(\"the os platform is : \",platform.system())\n",
        "    print(\"the os relese is : \",platform.release())\n",
        "oschk()\n",
        "\n"
      ],
      "metadata": {
        "id": "PTkTWLDXUehs"
      },
      "execution_count": null,
      "outputs": []
    },
    {
      "cell_type": "markdown",
      "source": [
        "13. Write a function to find out x^y. Function should find out the square of x in case of default argument passing.\n"
      ],
      "metadata": {
        "id": "L_X90hU8Uepk"
      }
    },
    {
      "cell_type": "code",
      "source": [
        "\n",
        "def xy(x,y=2):\n",
        "    return(x**y)\n",
        "\n",
        "print(xy(5,10))\n"
      ],
      "metadata": {
        "colab": {
          "base_uri": "https://localhost:8080/"
        },
        "id": "2kDl1_e2Uewd",
        "outputId": "5e4c12f5-b018-4058-c35c-19d7b18b82c4"
      },
      "execution_count": null,
      "outputs": [
        {
          "output_type": "stream",
          "name": "stdout",
          "text": [
            "9765625\n"
          ]
        }
      ]
    },
    {
      "cell_type": "markdown",
      "source": [
        "14. Write a function to find out the factorial of a given number.\n",
        "I) without recursion\n",
        "II) WITH RECURSION"
      ],
      "metadata": {
        "id": "mzkkX25_Ue48"
      }
    },
    {
      "cell_type": "code",
      "source": [
        "def factwithoutr():\n",
        "    x=eval(input(\"enter the number :\"))\n",
        "    fact=1\n",
        "    while x!=0:\n",
        "        fact=fact*x\n",
        "        x-=1\n",
        "    print(fact)\n",
        "\n",
        "factwithoutr()\n",
        "\n",
        "\n",
        "x=eval(input(\"enter a number : \"))\n",
        "def factwithr(x):\n",
        "    if x==1:\n",
        "        return 1\n",
        "    return(x*factwithr(x-1))\n",
        "print(factwithr(x))\n"
      ],
      "metadata": {
        "colab": {
          "base_uri": "https://localhost:8080/"
        },
        "id": "Yxz3kAWeUfA-",
        "outputId": "fd00a784-f92a-475b-92dc-4f51b5f77760"
      },
      "execution_count": null,
      "outputs": [
        {
          "output_type": "stream",
          "name": "stdout",
          "text": [
            "enter the number :10\n",
            "3628800\n",
            "enter a number : 10\n",
            "3628800\n"
          ]
        }
      ]
    },
    {
      "cell_type": "markdown",
      "source": [
        "15. Write a program to find out Fibonacci series using recursion and function as an object.\n"
      ],
      "metadata": {
        "id": "tS8KETmyUje8"
      }
    },
    {
      "cell_type": "code",
      "source": [
        "def Fibonacci(n):\n",
        "\n",
        "\tif n < 0:\n",
        "\t\tprint(\"Incorrect input\")\n",
        "\n",
        "\telif n == 0:\n",
        "\t\treturn 0\n",
        "\n",
        "\telif n == 1 or n == 2:\n",
        "\t\treturn 1\n",
        "\n",
        "\telse:\n",
        "\t\treturn Fibonacci(n-1) + Fibonacci(n-2)\n",
        "\n",
        "n=10\n",
        "f=Fibonacci\n",
        "for i in range (n):\n",
        "    print(f(i))\n"
      ],
      "metadata": {
        "colab": {
          "base_uri": "https://localhost:8080/"
        },
        "id": "Kg7mvdy3Ujp2",
        "outputId": "29e58397-e882-46c0-e94f-e4e94fd25d4c"
      },
      "execution_count": null,
      "outputs": [
        {
          "output_type": "stream",
          "name": "stdout",
          "text": [
            "0\n",
            "1\n",
            "1\n",
            "2\n",
            "3\n",
            "5\n",
            "8\n",
            "13\n",
            "21\n",
            "34\n"
          ]
        }
      ]
    },
    {
      "cell_type": "markdown",
      "source": [
        "16. Demonstrate Function Scoping.\n",
        "\n"
      ],
      "metadata": {
        "id": "zeU-cawlUj13"
      }
    },
    {
      "cell_type": "code",
      "source": [
        "def f():\n",
        "\tglobal s\n",
        "\tprint(s)\n",
        "\ts = \"hello\"\n",
        "\tprint(s)\n",
        "\n",
        "\n",
        "s = \"Python is great !\"\n",
        "f()\n",
        "print(s)\n"
      ],
      "metadata": {
        "colab": {
          "base_uri": "https://localhost:8080/"
        },
        "id": "bdkI5RNBUj9N",
        "outputId": "6da46ebb-6676-4d49-bb3b-d7368a5a382c"
      },
      "execution_count": null,
      "outputs": [
        {
          "output_type": "stream",
          "name": "stdout",
          "text": [
            "Python is great !\n",
            "hello\n",
            "hello\n"
          ]
        }
      ]
    },
    {
      "cell_type": "markdown",
      "source": [
        "17. Write a Python program to check whether a specified value is contained in a group of values using lambda function.\n",
        "Test :\n",
        "Data:  3 -> [1, 5, 8, 3] : True\n",
        "           -1 -> [1, 5, 8, 3] : False\n",
        "\n"
      ],
      "metadata": {
        "id": "31nVSKcvUkDs"
      }
    },
    {
      "cell_type": "code",
      "source": [
        "\n",
        "x=[1,3,5,8]\n",
        "g=lambda x,y:y in x\n",
        "print(g(x,3))\n",
        "\n",
        "print(g(x,-1))\n"
      ],
      "metadata": {
        "colab": {
          "base_uri": "https://localhost:8080/"
        },
        "id": "LSUxs-44UkK9",
        "outputId": "2169c252-b0a1-4b6f-e543-ae3b6f8fe142"
      },
      "execution_count": null,
      "outputs": [
        {
          "output_type": "stream",
          "name": "stdout",
          "text": [
            "True\n",
            "False\n"
          ]
        }
      ]
    },
    {
      "cell_type": "markdown",
      "source": [
        "18. Write a Python program to find whether a given string ends with a given character using Lambda."
      ],
      "metadata": {
        "id": "6pOYrZJUUkRM"
      }
    },
    {
      "cell_type": "code",
      "source": [
        "\n",
        "x=\"madhur\"\n",
        "g=lambda x,y:x.endswith(y)\n",
        "print(g(x,\"m\"))\n",
        "\n",
        "print(g(x,\"r\"))\n"
      ],
      "metadata": {
        "colab": {
          "base_uri": "https://localhost:8080/"
        },
        "id": "i6ydMs57UkYu",
        "outputId": "f9411932-f896-4be2-ab89-3c2304560ffa"
      },
      "execution_count": null,
      "outputs": [
        {
          "output_type": "stream",
          "name": "stdout",
          "text": [
            "False\n",
            "True\n"
          ]
        }
      ]
    },
    {
      "cell_type": "markdown",
      "source": [
        "19. Prime or not prime. Input: L= [3,4,6,9,11] Output: L= [P, NP, NP, NP, P] using map\n",
        "function.\n"
      ],
      "metadata": {
        "id": "81wn-AQVUked"
      }
    },
    {
      "cell_type": "code",
      "source": [
        "import math as m\n",
        "def prime(n):\n",
        "\n",
        "    for i in range(2,int(m.sqrt((n)))+1):\n",
        "        if i%2==0:\n",
        "            return \"NP\"\n",
        "    return \"P\"\n",
        "L= [3,4,6,9,11]\n",
        "r=map(prime,L)\n",
        "print(list(r))\n"
      ],
      "metadata": {
        "colab": {
          "base_uri": "https://localhost:8080/"
        },
        "id": "q_ZIXMSVUkld",
        "outputId": "28d77f19-5abe-452b-829d-42cda8a0bb08"
      },
      "execution_count": null,
      "outputs": [
        {
          "output_type": "stream",
          "name": "stdout",
          "text": [
            "['P', 'NP', 'NP', 'NP', 'NP']\n"
          ]
        }
      ]
    },
    {
      "cell_type": "markdown",
      "source": [
        "20. Write a python program to find out even numbers from a list using filter ().\n",
        "\n"
      ],
      "metadata": {
        "id": "RmH7iBMwUksU"
      }
    },
    {
      "cell_type": "code",
      "source": [
        "L= [3,4,6,9,11]\n",
        "r=filter(lambda y:y%2==0,L)\n",
        "print(list(r))\n"
      ],
      "metadata": {
        "colab": {
          "base_uri": "https://localhost:8080/"
        },
        "id": "VbNz7N-aUkxt",
        "outputId": "149c4183-f55d-417f-c0a5-9f942d0abf35"
      },
      "execution_count": null,
      "outputs": [
        {
          "output_type": "stream",
          "name": "stdout",
          "text": [
            "[4, 6]\n"
          ]
        }
      ]
    }
  ]
}